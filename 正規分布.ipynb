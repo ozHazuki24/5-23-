{
  "nbformat": 4,
  "nbformat_minor": 0,
  "metadata": {
    "colab": {
      "name": "正規分布.ipynb",
      "provenance": []
    },
    "kernelspec": {
      "name": "python3",
      "display_name": "Python 3"
    },
    "language_info": {
      "name": "python"
    }
  },
  "cells": [
    {
      "cell_type": "code",
      "execution_count": 1,
      "metadata": {
        "id": "weDBcVKUdjE7"
      },
      "outputs": [],
      "source": [
        "import math\n",
        "import numpy as np\n",
        "import matplotlib.pyplot as plt\n",
        "\n",
        "def normal_distribution(x,mu,sigma):\n",
        "  y = 1/np.sqrt(2*np.pi*sigma**2)*np.exp(-(x-mu)**2/(2*sigma**2))\n",
        "  return y"
      ]
    },
    {
      "cell_type": "code",
      "source": [
        "mu = 116.6\n",
        "sigma = 4.8\n",
        "\n",
        "x_min = 80\n",
        "x_max = 150\n",
        "x_num = 100\n",
        "\n",
        "x = np.linspace(x_min,x_max,x_num)\n",
        "y = normal_distribution(x,mu,sigma)\n",
        "\n",
        "plt.plot(x,y,color=\"k\")\n",
        "plt.show()\n",
        "%matplotlib inline"
      ],
      "metadata": {
        "colab": {
          "base_uri": "https://localhost:8080/",
          "height": 265
        },
        "id": "AGM_PgbefN6q",
        "outputId": "b9ed94cf-f114-4515-b35c-9bcc32ab31b9"
      },
      "execution_count": 2,
      "outputs": [
        {
          "output_type": "display_data",
          "data": {
            "text/plain": [
              "<Figure size 432x288 with 1 Axes>"
            ],
            "image/png": "[encoded data removed]"
          },
          "metadata": {
            "needs_background": "light"
          }
        }
      ]
    },
    {
      "cell_type": "code",
      "source": [
        "x_min = 115\n",
        "x_max = 117\n",
        "x_num = 100\n",
        "\n",
        "x = np.linspace(x_min,x_max,x_num)\n",
        "y = normal_distribution(x,mu,sigma)\n",
        "\n",
        "dx = (x_max-x_min)/(x_num-1)\n",
        "prob = 0\n",
        "for i in range(x_num):\n",
        "  y = normal_distribution(x[i],mu,sigma)\n",
        "  prob += y*dx\n",
        "print(\"確率:\",prob)  "
      ],
      "metadata": {
        "colab": {
          "base_uri": "https://localhost:8080/"
        },
        "id": "hm2JYS-VgMQa",
        "outputId": "80657e91-6b1e-4a36-cbd5-bbbf439e3985"
      },
      "execution_count": 3,
      "outputs": [
        {
          "output_type": "stream",
          "name": "stdout",
          "text": [
            "確率: 0.1653959487393015\n"
          ]
        }
      ]
    },
    {
      "cell_type": "code",
      "source": [
        "from sympy import*\n",
        "import numpy as np\n",
        "from matplotlib import pyplot as plt\n",
        "\n",
        "n = 1\n",
        "x0 = 0\n",
        "\n",
        "x = Symbol(\"x\")\n",
        "\n",
        "\n",
        "f = 2 + x + sin(x) + exp(x)/10\n",
        "\n",
        "taylor = series(f,x_x,x0=x0,n=n+1).removeO()\n",
        "taylor_y"
      ],
      "metadata": {
        "id": "93GcAPTmhFg3"
      },
      "execution_count": null,
      "outputs": []
    }
  ]
}
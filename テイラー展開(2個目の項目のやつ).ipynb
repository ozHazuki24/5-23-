{
  "nbformat": 4,
  "nbformat_minor": 0,
  "metadata": {
    "colab": {
      "name": "テイラー展開(2個目の項目のやつ).ipynb",
      "provenance": []
    },
    "kernelspec": {
      "name": "python3",
      "display_name": "Python 3"
    },
    "language_info": {
      "name": "python"
    }
  },
  "cells": [
    {
      "cell_type": "code",
      "execution_count": 4,
      "metadata": {
        "id": "dbS711BBBkGc",
        "colab": {
          "base_uri": "https://localhost:8080/",
          "height": 317
        },
        "outputId": "47f30a64-fe65-4da4-b811-2fa5cb1a2cde"
      },
      "outputs": [
        {
          "output_type": "stream",
          "name": "stdout",
          "text": [
            "テイラー展開\n",
            "21*x/10 + 21/10\n"
          ]
        },
        {
          "output_type": "execute_result",
          "data": {
            "text/plain": [
              "(0.0, 10.0)"
            ]
          },
          "metadata": {},
          "execution_count": 4
        },
        {
          "output_type": "display_data",
          "data": {
            "text/plain": [
              "<Figure size 432x288 with 1 Axes>"
            ],
            "image/png": "[encoded data removed]"
          },
          "metadata": {
            "needs_background": "light"
          }
        }
      ],
      "source": [
        "from sympy import*\n",
        "import numpy as np\n",
        "from matplotlib import pyplot as plt\n",
        "\n",
        "#パラメータを設定\n",
        "n = 1\n",
        "x0 = 0\n",
        "\n",
        "#シンボルを定義\n",
        "x = Symbol(\"x\")\n",
        "\n",
        "f = 2 + x + sin(x) + exp(x)/10\n",
        "\n",
        "taylor = series(f, x=x, x0=x0, n=n+1).removeO()\n",
        "taylor_y = lambdify(x,taylor,\"numpy\")\n",
        "print(\"テイラー展開\")\n",
        "print(taylor)\n",
        "\n",
        "#描画\n",
        "x_theory = np.arange(0.0, 10.0,0.1)\n",
        "y_theory = 2+x_theory+np.sin(x_theory)+np.exp(x_theory)/10\n",
        "plt.plot(x_theory,y_theory,lw=3,c=\"k\")\n",
        "plt.plot(x_theory,taylor_y(x_theory),c=\"b\")\n",
        "plt.xlim([0,10])"
      ]
    },
    {
      "cell_type": "code",
      "source": [
        "#パラメータを設定\n",
        "n = 20\n",
        "x0 = 0\n",
        "\n",
        "#シンボルを定義\n",
        "x = Symbol(\"x\")\n",
        "\n",
        "f = 2 + x + sin(x) + exp(x)/10\n",
        "\n",
        "taylor = series(f, x=x, x0=x0, n=n+1).removeO()\n",
        "taylor_y = lambdify(x,taylor,\"numpy\")\n",
        "print(\"テイラー展開\")\n",
        "print(taylor)\n",
        "\n",
        "#描画\n",
        "x_theory = np.arange(0.0, 10.0,0.1)\n",
        "y_theory = 2+x_theory+np.sin(x_theory)+np.exp(x_theory)/10\n",
        "plt.plot(x_theory,y_theory,lw=3,c=\"k\")\n",
        "plt.plot(x_theory,taylor_y(x_theory),c=\"b\")\n",
        "plt.xlim([0,10])"
      ],
      "metadata": {
        "colab": {
          "base_uri": "https://localhost:8080/",
          "height": 337
        },
        "id": "urB1r7AEFk5T",
        "outputId": "f8210416-3ec0-492d-d787-2032a64249ec"
      },
      "execution_count": 5,
      "outputs": [
        {
          "output_type": "stream",
          "name": "stdout",
          "text": [
            "テイラー展開\n",
            "x**20/24329020081766400000 - x**19/135161222676480000 + x**18/64023737057280000 + x**17/323352207360000 + x**16/209227898880000 - x**15/1452971520000 + x**14/871782912000 + x**13/5660928000 + x**12/4790016000 - x**11/44352000 + x**10/36288000 + 11*x**9/3628800 + x**8/403200 - x**7/5600 + x**6/7200 + 11*x**5/1200 + x**4/240 - 3*x**3/20 + x**2/20 + 21*x/10 + 21/10\n"
          ]
        },
        {
          "output_type": "execute_result",
          "data": {
            "text/plain": [
              "(0.0, 10.0)"
            ]
          },
          "metadata": {},
          "execution_count": 5
        },
        {
          "output_type": "display_data",
          "data": {
            "text/plain": [
              "<Figure size 432x288 with 1 Axes>"
            ],
            "image/png": "[encoded data removed]"
          },
          "metadata": {
            "needs_background": "light"
          }
        }
      ]
    }
  ]
}